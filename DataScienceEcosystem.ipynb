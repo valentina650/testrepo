{
 "cells": [
  {
   "cell_type": "markdown",
   "id": "d1d0387c-471b-40fe-af0a-f7707601bdc5",
   "metadata": {},
   "source": [
    "# Data Science Tools and Ecosystem"
   ]
  },
  {
   "cell_type": "markdown",
   "id": "db1a982a-d73d-4978-9f99-6c1fc2e96306",
   "metadata": {},
   "source": [
    "In this notebook, Data Science Tools and Ecosystem are summarized. "
   ]
  },
  {
   "cell_type": "markdown",
   "id": "8a64cde3-88a4-4bcf-9895-9091f427548b",
   "metadata": {},
   "source": [
    "Some of the popular languages that Data Scientist use are :\n",
    "1. R\n",
    "2. SQL\n",
    "3. Java\n",
    "4. Scala\n",
    "5. C++"
   ]
  },
  {
   "cell_type": "markdown",
   "id": "711833a6-1737-4677-ae0a-6fe40beb12e5",
   "metadata": {},
   "source": [
    "**Objectives**\n",
    "\n",
    "* List of popular languages Data Scientist use\n",
    "* List of library used by Data Scientist\n",
    "* Open source Data Science Tools\n",
    "* Simple arithmetic expression"
   ]
  },
  {
   "cell_type": "markdown",
   "id": "8ad52ab5-f493-46fa-ba9f-94b2d68e054b",
   "metadata": {},
   "source": [
    "Some of the commonly used libraries used by Data Scientist include:\n",
    "1. Pandas\n",
    "2. Numpy\n",
    "3. Matplotlib\n",
    "4. Seaborn\n",
    "5. Scikit-learn"
   ]
  },
  {
   "cell_type": "markdown",
   "id": "ced8e1c1-0c1b-4724-a9c9-f4099b0e8ad5",
   "metadata": {},
   "source": [
    "|Data Science Tools|\n",
    "|------------------|\n",
    "|RStudio |\n",
    "|Apache Spark|\n",
    "|Apache Hadoop|\n",
    "|TensorFlow|"
   ]
  },
  {
   "cell_type": "markdown",
   "id": "dfb74c44-8219-4e81-b78b-b25d82c5fe2a",
   "metadata": {},
   "source": [
    "### Below are a few example of evaluating arithmetic expression in python"
   ]
  },
  {
   "cell_type": "code",
   "execution_count": 1,
   "id": "6f952b5d-9397-48ca-8b13-1a08c4cbd76e",
   "metadata": {
    "tags": []
   },
   "outputs": [],
   "source": [
    "# This is a simple arithmetiic expression to multiply then add integers"
   ]
  },
  {
   "cell_type": "code",
   "execution_count": 2,
   "id": "f62e02bd-a075-4b78-951d-1d613d8c288b",
   "metadata": {
    "tags": []
   },
   "outputs": [
    {
     "data": {
      "text/plain": [
       "17"
      ]
     },
     "execution_count": 2,
     "metadata": {},
     "output_type": "execute_result"
    }
   ],
   "source": [
    "(3*4)+5"
   ]
  },
  {
   "cell_type": "code",
   "execution_count": 3,
   "id": "1d7dd57e-cde6-41c6-a64d-83a104b6859d",
   "metadata": {
    "tags": []
   },
   "outputs": [],
   "source": [
    "# This will convert 200 minutes to hours by dividing by 60"
   ]
  },
  {
   "cell_type": "code",
   "execution_count": 4,
   "id": "5cc8d2ea-8641-4a15-a4a9-97c78fe7e918",
   "metadata": {
    "tags": []
   },
   "outputs": [
    {
     "data": {
      "text/plain": [
       "3.3333333333333335"
      ]
     },
     "execution_count": 4,
     "metadata": {},
     "output_type": "execute_result"
    }
   ],
   "source": [
    "200/60"
   ]
  },
  {
   "cell_type": "markdown",
   "id": "0479ae6b-7d6d-4ccb-9b11-373df8e6da44",
   "metadata": {},
   "source": [
    "## Author\n",
    "Valentina Ekui Ocloo"
   ]
  },
  {
   "cell_type": "code",
   "execution_count": null,
   "id": "5dd0dee4-144c-4c2e-8c6d-cb805ea649ea",
   "metadata": {},
   "outputs": [],
   "source": []
  }
 ],
 "metadata": {
  "kernelspec": {
   "display_name": "Python",
   "language": "python",
   "name": "conda-env-python-py"
  },
  "language_info": {
   "codemirror_mode": {
    "name": "ipython",
    "version": 3
   },
   "file_extension": ".py",
   "mimetype": "text/x-python",
   "name": "python",
   "nbconvert_exporter": "python",
   "pygments_lexer": "ipython3",
   "version": "3.7.12"
  }
 },
 "nbformat": 4,
 "nbformat_minor": 5
}
